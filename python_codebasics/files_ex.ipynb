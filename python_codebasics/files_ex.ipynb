{
 "cells": [
  {
   "cell_type": "markdown",
   "metadata": {},
   "source": [
    "poem.txt contains famous poem \"Road not taken\" by poet Robert Frost. You have to read this file in your python program and find out words with maximum occurance."
   ]
  },
  {
   "cell_type": "code",
   "execution_count": 16,
   "metadata": {},
   "outputs": [
    {
     "name": "stdout",
     "output_type": "stream",
     "text": [
      "and ==> 9\n"
     ]
    }
   ],
   "source": [
    "with open(\"C:\\\\Users\\\\Sayandeep Mondal\\\\OneDrive\\\\Desktop\\\\coding\\\\python_codebasics\\\\poem.txt\",\"r\") as f:\n",
    "    text=f.read()\n",
    "    words=text.lower().split()\n",
    "    wordcount={}\n",
    "    for word in words:\n",
    "        if word.isalpha():\n",
    "            wordcount[word]=wordcount.get(word,0)+1\n",
    "    max_word=max(wordcount,key=wordcount.get)\n",
    "    max_count=wordcount[max_word]\n",
    "    print(f\"{max_word} ==> {max_count}\")"
   ]
  },
  {
   "cell_type": "markdown",
   "metadata": {},
   "source": [
    "stocks.csv contains stock price, earnings per share and book value. You are writing a stock market application that will process this file and create a new file with financial metrics such as pe ratio and price to book ratio. These are calculated as,\n",
    "\n",
    "pe ratio = price / earnings per share\n",
    "price to book ratio = price / book value\n",
    "\n",
    "Your input format (stocks.csv) is,\n",
    "\n",
    "Company Name\tPrice\tEarnings Per Share\tBook Value\n",
    "\n",
    "Reliance\t1467\t66\t653\n",
    "\n",
    "Tata Steel\t391\t89\t572\n",
    "\n",
    "Output.csv should look like this,\n",
    "\n",
    "Company Name\tPE Ratio\tPB Ratio\n",
    "\n",
    "Reliance\t22.23\t2.25\n",
    "\n",
    "Tata Steel\t4.39\t0.68"
   ]
  },
  {
   "cell_type": "code",
   "execution_count": 12,
   "metadata": {},
   "outputs": [],
   "source": [
    "with open(\"C:\\\\Users\\\\Sayandeep Mondal\\\\OneDrive\\\\Desktop\\\\coding\\\\python_codebasics\\\\stocks.csv\",\"r\") as f,open(\"C:\\\\Users\\\\Sayandeep Mondal\\\\OneDrive\\\\Desktop\\\\coding\\\\python_codebasics\\\\outputstocks.csv\",\"w\") as out:\n",
    "    out.write(\"Company Name,PE Ratio,PB Ratio\\n\")\n",
    "    next(f)\n",
    "    for line in f:\n",
    "        token=line.split(\",\")\n",
    "        name=token[0]\n",
    "        price=float(token[1])\n",
    "        earning=float(token[2])\n",
    "        book=float(token[3])\n",
    "        pe=round(price/earning,2)\n",
    "        pb=round(price/book,2)\n",
    "        out.write(f\"{name},{pe},{pb}\\n\")"
   ]
  }
 ],
 "metadata": {
  "kernelspec": {
   "display_name": "Python 3",
   "language": "python",
   "name": "python3"
  },
  "language_info": {
   "codemirror_mode": {
    "name": "ipython",
    "version": 3
   },
   "file_extension": ".py",
   "mimetype": "text/x-python",
   "name": "python",
   "nbconvert_exporter": "python",
   "pygments_lexer": "ipython3",
   "version": "3.12.6"
  }
 },
 "nbformat": 4,
 "nbformat_minor": 2
}
