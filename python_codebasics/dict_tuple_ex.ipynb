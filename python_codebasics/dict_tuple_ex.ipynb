{
 "cells": [
  {
   "cell_type": "markdown",
   "metadata": {},
   "source": [
    "We have following information on countries and their population (population is in crores),\n",
    "\n",
    "Country\t Population\n",
    "\n",
    "China\t 143\n",
    "\n",
    "India\t 136\n",
    "\n",
    "USA\t     32\n",
    "\n",
    "Pakistan 21\n",
    "\n",
    "Using above create a dictionary of countries and its population\n",
    "\n",
    "Write a program that asks user for three type of inputs\n",
    "\n",
    "print: if user enter print then it should print all countries with their population in this format,\n",
    "\n",
    "china==>143\n",
    "\n",
    "india==>136\n",
    "\n",
    "usa==>32\n",
    "\n",
    "pakistan==>21\n",
    "\n",
    "add: if user input add then it should further ask for a country name to add. If country already exist in our dataset then it should print that it exist and do nothing. If it doesn't then it asks for population and add that new country/population in our dictionary and print it\n",
    "\n",
    "remove: when user inputs remove it should ask for a country to remove. If country exist in our dictionary then remove it and print new dictionary using format shown above in (a). Else print that country doesn't exist!\n",
    "\n",
    "query: on this again ask user for which country he or she wants to query. When user inputs that country it will print population of that country."
   ]
  },
  {
   "cell_type": "code",
   "execution_count": 5,
   "metadata": {},
   "outputs": [
    {
     "name": "stdout",
     "output_type": "stream",
     "text": [
      "china ==> 143\n",
      "india ==> 136\n",
      "usa ==> 32\n",
      "pakistan ==> 21\n",
      "canada ==> 28\n"
     ]
    }
   ],
   "source": [
    "cpop={\"china\":143,\"india\":136,\"usa\":32,\"pakistan\":21}\n",
    "\n",
    "def printAll():\n",
    "    for country,pop in cpop.items():\n",
    "        print(country,\"==>\",pop)\n",
    "        \n",
    "def add():\n",
    "    cname=input(\"enter country name: \")\n",
    "    cname=cname.lower()\n",
    "    if cname in cpop:\n",
    "        print(\"country already exists in record\")\n",
    "        return\n",
    "    pop=int(input(\"enter population: \"))\n",
    "    cpop[cname]=pop;\n",
    "    printAll()\n",
    "\n",
    "def remove():\n",
    "    cname=input(\"enter country to remove: \")\n",
    "    cname=cname.lower()\n",
    "    if cname not in cpop:\n",
    "        print(\"country does not exist in record\")\n",
    "        return\n",
    "    del cpop[cname]\n",
    "    printAll()\n",
    "    \n",
    "def query():\n",
    "    cname=input(\"enter country to remove: \")\n",
    "    cname=cname.lower()\n",
    "    if cname not in cpop:\n",
    "        print(\"country does not exist in record\")\n",
    "        return\n",
    "    print(cname,\"==>\",cpop[cname])\n",
    "    \n",
    "def main():\n",
    "    choice=input(\"enter your choice(print, add, remove, query): \")\n",
    "    if choice.lower()==\"print\":\n",
    "        printAll()\n",
    "    elif choice.lower()==\"add\":\n",
    "        add()\n",
    "    elif choice.lower()==\"remove\":\n",
    "        remove()\n",
    "    elif choice.lower()==\"query\":\n",
    "        query()\n",
    "        \n",
    "if __name__=='__main__':\n",
    "    main()"
   ]
  },
  {
   "cell_type": "markdown",
   "metadata": {},
   "source": [
    "You are given following list of stocks and their prices in last 3 days,\n",
    "\n",
    "Stock\tPrices\n",
    "\n",
    "info\t[600,630,620]\n",
    "\n",
    "ril\t[1430,1490,1567]\n",
    "\n",
    "mtl\t[234,180,160]\n",
    "\n",
    "Write a program that asks user for operation. Value of operations could be,\n",
    "\n",
    "print: When user enters print it should print following,\n",
    "\n",
    "info ==> [600, 630, 620] ==> avg:  616.67\n",
    "\n",
    "ril ==> [1430, 1490, 1567] ==> avg:  1495.67\n",
    "\n",
    "mtl ==> [234, 180, 160] ==> avg:  191.33\n",
    "\n",
    "add: When user enters 'add', it asks for stock ticker and price. If stock already exist in your list (like info, ril etc) then it will append the price to the list. Otherwise it will create new entry in your dictionary. For example entering 'tata' and 560 will add tata ==> [560] to the dictionary of stocks."
   ]
  },
  {
   "cell_type": "code",
   "execution_count": 11,
   "metadata": {},
   "outputs": [
    {
     "name": "stdout",
     "output_type": "stream",
     "text": [
      "info ==> [600, 630, 620] ==> avg: 616.67\n",
      "ril ==> [1430, 1490, 1567] ==> avg: 1495.67\n",
      "mtl ==> [234, 180, 160] ==> avg: 191.33\n",
      "ssp ==> [430] ==> avg: 430\n"
     ]
    }
   ],
   "source": [
    "import statistics\n",
    "\n",
    "stocks={\"info\":[600,630,620],\"ril\":[1430,1490,1567],\"mtl\":[234,180,160]}\n",
    "\n",
    "def printAll():\n",
    "    for stock,price in stocks.items():\n",
    "        avg=statistics.mean(price)\n",
    "        print(stock,\"==>\",price,\"==> avg:\",round(avg,2))\n",
    "        \n",
    "def add():\n",
    "    s=input(\"enter stock ticker: \")\n",
    "    p=int(input(\"enter price: \"))\n",
    "    if s in stocks:\n",
    "        stocks[s].append(p)\n",
    "    else:\n",
    "        stocks[s]=[p]\n",
    "    printAll()\n",
    "    \n",
    "def main():\n",
    "    op=input(\"enter operation(print, add): \")\n",
    "    if op.lower()==\"print\":\n",
    "        printAll()\n",
    "    elif op.lower()==\"add\":\n",
    "        add()\n",
    "        \n",
    "if __name__=='__main__':\n",
    "    main()"
   ]
  },
  {
   "cell_type": "markdown",
   "metadata": {},
   "source": [
    "Write circle_calc() function that takes radius of a circle as an input from user and then it calculates and returns area, circumference and diameter. You should get these values in your main program by calling circle_calc function and then print them"
   ]
  },
  {
   "cell_type": "code",
   "execution_count": 13,
   "metadata": {},
   "outputs": [
    {
     "name": "stdout",
     "output_type": "stream",
     "text": [
      "area: 78.54, circumference: 31.42, diameter: 10.0\n"
     ]
    }
   ],
   "source": [
    "import math\n",
    "\n",
    "def circle_calc(r):\n",
    "    ar=math.pi*(r**2)\n",
    "    cf=2*math.pi*r\n",
    "    dm=2*r\n",
    "    return round(ar,2),round(cf,2),round(dm,2)\n",
    "\n",
    "def main():\n",
    "    radius=float(input(\"enter radius: \"))\n",
    "    a,c,d=circle_calc(radius)\n",
    "    print(f\"area: {a}, circumference: {c}, diameter: {d}\")\n",
    "    \n",
    "if __name__=='__main__':\n",
    "    main()"
   ]
  }
 ],
 "metadata": {
  "kernelspec": {
   "display_name": "Python 3",
   "language": "python",
   "name": "python3"
  },
  "language_info": {
   "codemirror_mode": {
    "name": "ipython",
    "version": 3
   },
   "file_extension": ".py",
   "mimetype": "text/x-python",
   "name": "python",
   "nbconvert_exporter": "python",
   "pygments_lexer": "ipython3",
   "version": "3.12.6"
  }
 },
 "nbformat": 4,
 "nbformat_minor": 2
}
