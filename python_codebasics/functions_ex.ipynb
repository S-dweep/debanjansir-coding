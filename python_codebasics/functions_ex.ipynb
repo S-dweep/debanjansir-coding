{
 "cells": [
  {
   "cell_type": "markdown",
   "metadata": {},
   "source": [
    "Write a function called calculate_area that takes base and height as an input and returns and area of a triangle. Equation of an area of a triangle is,\n",
    "\n",
    "area = (1/2) * base * height"
   ]
  },
  {
   "cell_type": "code",
   "execution_count": 1,
   "metadata": {},
   "outputs": [
    {
     "name": "stdout",
     "output_type": "stream",
     "text": [
      "area:  12.0\n"
     ]
    }
   ],
   "source": [
    "def calculate_area(b,h):\n",
    "    area=(1/2)*b*h\n",
    "    return area\n",
    "\n",
    "base=float(input(\"enter base: \"))\n",
    "height=float(input(\"enter height: \"))\n",
    "print(\"area: \",calculate_area(base,height))"
   ]
  },
  {
   "cell_type": "markdown",
   "metadata": {},
   "source": [
    "Modify above function to take third parameter shape type. It can be either \"triangle\" or \"rectangle\". Based on shape type it will calculate area. Equation of rectangle's area is,\n",
    "\n",
    "rectangle area = length * width\n",
    "\n",
    "If no shape is supplied then it should take triangle as a default shape"
   ]
  },
  {
   "cell_type": "code",
   "execution_count": 4,
   "metadata": {},
   "outputs": [
    {
     "name": "stdout",
     "output_type": "stream",
     "text": [
      "area with shape arg:  24.0\n",
      "area without shape arg:  12.0\n"
     ]
    }
   ],
   "source": [
    "def calculate_area(d1, d2, shape=\"triangle\"):\n",
    "    if shape == \"triangle\":\n",
    "        area = (1/2) * d1 * d2\n",
    "    elif shape == \"rectangle\":\n",
    "        area = d1 * d2\n",
    "    else:\n",
    "        return \"invalid shape\"\n",
    "    return area\n",
    "\n",
    "\n",
    "d1 = float(input(\"Enter dimension 1: \"))\n",
    "d2 = float(input(\"Enter dimension 2: \"))\n",
    "shape=input(\"enter shape: \")\n",
    "print(\"area with shape arg: \",calculate_area(d1,d2,shape))\n",
    "print(\"area without shape arg: \",calculate_area(d1,d2))\n"
   ]
  },
  {
   "cell_type": "markdown",
   "metadata": {},
   "source": [
    "Write a function called print_pattern that takes integer number as an argument and prints following pattern if input number is 3,\n",
    "\n",
    "    *\n",
    "    **\n",
    "    ***\n",
    "\n",
    "if input is 4 then it should print\n",
    "\n",
    "    *\n",
    "    **\n",
    "    ***\n",
    "    ****\n",
    "\n",
    "Basically number of lines it prints is equal to that number. (Hint: you need to use two for loops)"
   ]
  },
  {
   "cell_type": "code",
   "execution_count": 10,
   "metadata": {},
   "outputs": [
    {
     "name": "stdout",
     "output_type": "stream",
     "text": [
      "*\n",
      "**\n",
      "***\n",
      "****\n"
     ]
    }
   ],
   "source": [
    "def print_pattern(n):\n",
    "    for i in range(1,n+1):\n",
    "        for j in range(i):\n",
    "            print(\"*\",end=\"\")\n",
    "        print(\"\")\n",
    "\n",
    "num=int(input(\"enter no of lines: \"))\n",
    "print_pattern(num)"
   ]
  }
 ],
 "metadata": {
  "kernelspec": {
   "display_name": "Python 3",
   "language": "python",
   "name": "python3"
  },
  "language_info": {
   "codemirror_mode": {
    "name": "ipython",
    "version": 3
   },
   "file_extension": ".py",
   "mimetype": "text/x-python",
   "name": "python",
   "nbconvert_exporter": "python",
   "pygments_lexer": "ipython3",
   "version": "3.12.6"
  }
 },
 "nbformat": 4,
 "nbformat_minor": 2
}
