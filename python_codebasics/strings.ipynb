{
 "cells": [
  {
   "cell_type": "code",
   "execution_count": 3,
   "metadata": {},
   "outputs": [
    {
     "name": "stdout",
     "output_type": "stream",
     "text": [
      "s\n",
      "a\n",
      "a\n",
      "o\n",
      "sa\n",
      "sa\n",
      "mosa\n",
      "osa\n"
     ]
    },
    {
     "data": {
      "text/plain": [
       "6"
      ]
     },
     "execution_count": 3,
     "metadata": {},
     "output_type": "execute_result"
    }
   ],
   "source": [
    "food='samosa'\n",
    "print(food[0])\n",
    "print(food[1])\n",
    "print(food[-1])\n",
    "print(food[-3])\n",
    "print(food[0:2])\n",
    "print(food[:2])\n",
    "print(food[2:])\n",
    "print(food[-3:])\n",
    "len(food)"
   ]
  },
  {
   "cell_type": "code",
   "execution_count": 13,
   "metadata": {},
   "outputs": [
    {
     "name": "stdout",
     "output_type": "stream",
     "text": [
      "True\n",
      "False\n",
      "False\n",
      "True\n",
      "biriyani,jalebi\n",
      "samosa,jalebi\n",
      "biriyani,jalebi\n"
     ]
    }
   ],
   "source": [
    "myfood='samosa,jalebi'\n",
    "print('jalebi' in myfood)\n",
    "print('Jalebi' in myfood)\n",
    "print('biriyani' in myfood)\n",
    "print('biriyani' not in myfood)\n",
    "print(myfood.replace('samosa','biriyani'))\n",
    "print(myfood)\n",
    "myfood=myfood.replace('samosa','biriyani')\n",
    "print(myfood)"
   ]
  },
  {
   "cell_type": "code",
   "execution_count": 14,
   "metadata": {},
   "outputs": [
    {
     "data": {
      "text/plain": [
       "['__add__',\n",
       " '__class__',\n",
       " '__contains__',\n",
       " '__delattr__',\n",
       " '__dir__',\n",
       " '__doc__',\n",
       " '__eq__',\n",
       " '__format__',\n",
       " '__ge__',\n",
       " '__getattribute__',\n",
       " '__getitem__',\n",
       " '__getnewargs__',\n",
       " '__getstate__',\n",
       " '__gt__',\n",
       " '__hash__',\n",
       " '__init__',\n",
       " '__init_subclass__',\n",
       " '__iter__',\n",
       " '__le__',\n",
       " '__len__',\n",
       " '__lt__',\n",
       " '__mod__',\n",
       " '__mul__',\n",
       " '__ne__',\n",
       " '__new__',\n",
       " '__reduce__',\n",
       " '__reduce_ex__',\n",
       " '__repr__',\n",
       " '__rmod__',\n",
       " '__rmul__',\n",
       " '__setattr__',\n",
       " '__sizeof__',\n",
       " '__str__',\n",
       " '__subclasshook__',\n",
       " 'capitalize',\n",
       " 'casefold',\n",
       " 'center',\n",
       " 'count',\n",
       " 'encode',\n",
       " 'endswith',\n",
       " 'expandtabs',\n",
       " 'find',\n",
       " 'format',\n",
       " 'format_map',\n",
       " 'index',\n",
       " 'isalnum',\n",
       " 'isalpha',\n",
       " 'isascii',\n",
       " 'isdecimal',\n",
       " 'isdigit',\n",
       " 'isidentifier',\n",
       " 'islower',\n",
       " 'isnumeric',\n",
       " 'isprintable',\n",
       " 'isspace',\n",
       " 'istitle',\n",
       " 'isupper',\n",
       " 'join',\n",
       " 'ljust',\n",
       " 'lower',\n",
       " 'lstrip',\n",
       " 'maketrans',\n",
       " 'partition',\n",
       " 'removeprefix',\n",
       " 'removesuffix',\n",
       " 'replace',\n",
       " 'rfind',\n",
       " 'rindex',\n",
       " 'rjust',\n",
       " 'rpartition',\n",
       " 'rsplit',\n",
       " 'rstrip',\n",
       " 'split',\n",
       " 'splitlines',\n",
       " 'startswith',\n",
       " 'strip',\n",
       " 'swapcase',\n",
       " 'title',\n",
       " 'translate',\n",
       " 'upper',\n",
       " 'zfill']"
      ]
     },
     "execution_count": 14,
     "metadata": {},
     "output_type": "execute_result"
    }
   ],
   "source": [
    "dir(myfood)"
   ]
  },
  {
   "cell_type": "code",
   "execution_count": 19,
   "metadata": {},
   "outputs": [
    {
     "name": "stdout",
     "output_type": "stream",
     "text": [
      "BIRIYANI,JALEBI\n",
      "abc\n",
      "True\n",
      "False\n",
      "9\n"
     ]
    }
   ],
   "source": [
    "print(myfood.upper())\n",
    "print('ABC'.lower())\n",
    "s='420'\n",
    "print(s.isdigit())\n",
    "s='420ch'\n",
    "print(s.isdigit())\n",
    "print(myfood.index('jalebi'))"
   ]
  },
  {
   "cell_type": "code",
   "execution_count": 23,
   "metadata": {},
   "outputs": [
    {
     "name": "stdout",
     "output_type": "stream",
     "text": [
      "foobar\n",
      "foo29\n"
     ]
    }
   ],
   "source": [
    "print('foo'+'bar')\n",
    "states=29\n",
    "print('foo'+str(states))"
   ]
  },
  {
   "cell_type": "markdown",
   "metadata": {},
   "source": [
    "it's better not to use single quotes in situations like s='it's going to rain today' which gives error.\n",
    "\n",
    "however this error can be solved by using slash..."
   ]
  },
  {
   "cell_type": "code",
   "execution_count": 25,
   "metadata": {},
   "outputs": [
    {
     "name": "stdout",
     "output_type": "stream",
     "text": [
      "it's going to rain today\n"
     ]
    }
   ],
   "source": [
    "s='it\\'s going to rain today'\n",
    "print(s)"
   ]
  },
  {
   "cell_type": "code",
   "execution_count": 28,
   "metadata": {},
   "outputs": [
    {
     "name": "stdout",
     "output_type": "stream",
     "text": [
      "gabbar: kitne admi the\n",
      "kalia: do sardar\n",
      "my name is\n",
      "khan\n",
      "hey\tbro\n"
     ]
    }
   ],
   "source": [
    "dialogue='''gabbar: kitne admi the\n",
    "kalia: do sardar'''\n",
    "print(dialogue)\n",
    "dialogue=\"my name is\\nkhan\"\n",
    "print(dialogue)\n",
    "s=\"hey\\tbro\"\n",
    "print(s)"
   ]
  },
  {
   "cell_type": "code",
   "execution_count": 31,
   "metadata": {},
   "outputs": [
    {
     "name": "stdout",
     "output_type": "stream",
     "text": [
      "best cricketer in the world: Sachin Tendulkar\n"
     ]
    }
   ],
   "source": [
    "first=\"Sachin\"\n",
    "last=\"Tendulkar\"\n",
    "print(f\"best cricketer in the world: {first} {last}\")"
   ]
  }
 ],
 "metadata": {
  "kernelspec": {
   "display_name": "Python 3",
   "language": "python",
   "name": "python3"
  },
  "language_info": {
   "codemirror_mode": {
    "name": "ipython",
    "version": 3
   },
   "file_extension": ".py",
   "mimetype": "text/x-python",
   "name": "python",
   "nbconvert_exporter": "python",
   "pygments_lexer": "ipython3",
   "version": "3.12.6"
  }
 },
 "nbformat": 4,
 "nbformat_minor": 2
}
